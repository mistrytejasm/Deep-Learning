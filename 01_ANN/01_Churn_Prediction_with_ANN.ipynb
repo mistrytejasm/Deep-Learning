{
 "cells": [
  {
   "cell_type": "markdown",
   "id": "7cd25958",
   "metadata": {},
   "source": [
    "# Bank Customer Churn Prediction using ANN"
   ]
  },
  {
   "cell_type": "markdown",
   "id": "159b193e",
   "metadata": {},
   "source": [
    "This project implements an Artificial Neural Network (ANN) using TensorFlow/Keras to predict customer churn in a bank dataset. The goal is to classify whether a customer is likely to leave the bank based on their profile and account information.\n",
    "\n",
    "### Key Highlights:\n",
    "- Dataset: Bank Customer Churn Dataset from Kaggle (https://www.kaggle.com/datasets/aakash50897/churn-modellingcsv?resource=download)\n",
    "- Model: Multi-layer ANN (feedforward neural network)\n",
    "- Techniques:\n",
    "  - Categorical Encoding\n",
    "  - Feature Scaling\n",
    "  - Train-Test Split\n",
    "  - EarlyStopping\n",
    "- Evaluation Metrics:\n",
    "  - Accuracy\n",
    "  - Confusion Matrix\n",
    "\n",
    "### Algorithm Used:\n",
    "- **Artificial Neural Network (ANN)**\n",
    "  - Optimizer: Adam\n",
    "  - Loss Function: Binary Crossentropy\n",
    "  - Activation: ReLU and Sigmoid\n"
   ]
  },
  {
   "cell_type": "code",
   "execution_count": 1,
   "id": "d70215d4",
   "metadata": {},
   "outputs": [],
   "source": [
    "# # For GPU users\n",
    "# !pip install tensorflow[and-cuda]\n",
    "\n",
    "# # For CPU users\n",
    "# !pip install tensorflow"
   ]
  },
  {
   "cell_type": "markdown",
   "id": "78f94436",
   "metadata": {},
   "source": [
    "### 1. Import Required Libraries"
   ]
  },
  {
   "cell_type": "code",
   "execution_count": 2,
   "id": "fa202540",
   "metadata": {},
   "outputs": [],
   "source": [
    "import numpy as np\n",
    "import pandas as pd\n",
    "import matplotlib.pyplot as plt\n",
    "import tensorflow as tf"
   ]
  },
  {
   "cell_type": "code",
   "execution_count": 3,
   "id": "f4a248c7",
   "metadata": {},
   "outputs": [
    {
     "name": "stdout",
     "output_type": "stream",
     "text": [
      "Tensorflow Version: 2.13.1\n"
     ]
    }
   ],
   "source": [
    "print(\"Tensorflow Version:\",tf.__version__)"
   ]
  },
  {
   "cell_type": "markdown",
   "id": "25684bfb",
   "metadata": {},
   "source": [
    "### 2. Load and Inspect the Data\n"
   ]
  },
  {
   "cell_type": "code",
   "execution_count": 4,
   "id": "b0f8a745",
   "metadata": {},
   "outputs": [],
   "source": [
    "df = pd.read_csv(\"./../Dataset/Churn_Modelling.csv\")"
   ]
  },
  {
   "cell_type": "code",
   "execution_count": 5,
   "id": "1a8be8b4",
   "metadata": {},
   "outputs": [
    {
     "data": {
      "text/html": [
       "<div>\n",
       "<style scoped>\n",
       "    .dataframe tbody tr th:only-of-type {\n",
       "        vertical-align: middle;\n",
       "    }\n",
       "\n",
       "    .dataframe tbody tr th {\n",
       "        vertical-align: top;\n",
       "    }\n",
       "\n",
       "    .dataframe thead th {\n",
       "        text-align: right;\n",
       "    }\n",
       "</style>\n",
       "<table border=\"1\" class=\"dataframe\">\n",
       "  <thead>\n",
       "    <tr style=\"text-align: right;\">\n",
       "      <th></th>\n",
       "      <th>RowNumber</th>\n",
       "      <th>CustomerId</th>\n",
       "      <th>Surname</th>\n",
       "      <th>CreditScore</th>\n",
       "      <th>Geography</th>\n",
       "      <th>Gender</th>\n",
       "      <th>Age</th>\n",
       "      <th>Tenure</th>\n",
       "      <th>Balance</th>\n",
       "      <th>NumOfProducts</th>\n",
       "      <th>HasCrCard</th>\n",
       "      <th>IsActiveMember</th>\n",
       "      <th>EstimatedSalary</th>\n",
       "      <th>Exited</th>\n",
       "    </tr>\n",
       "  </thead>\n",
       "  <tbody>\n",
       "    <tr>\n",
       "      <th>0</th>\n",
       "      <td>1</td>\n",
       "      <td>15634602</td>\n",
       "      <td>Hargrave</td>\n",
       "      <td>619</td>\n",
       "      <td>France</td>\n",
       "      <td>Female</td>\n",
       "      <td>42</td>\n",
       "      <td>2</td>\n",
       "      <td>0.00</td>\n",
       "      <td>1</td>\n",
       "      <td>1</td>\n",
       "      <td>1</td>\n",
       "      <td>101348.88</td>\n",
       "      <td>1</td>\n",
       "    </tr>\n",
       "    <tr>\n",
       "      <th>1</th>\n",
       "      <td>2</td>\n",
       "      <td>15647311</td>\n",
       "      <td>Hill</td>\n",
       "      <td>608</td>\n",
       "      <td>Spain</td>\n",
       "      <td>Female</td>\n",
       "      <td>41</td>\n",
       "      <td>1</td>\n",
       "      <td>83807.86</td>\n",
       "      <td>1</td>\n",
       "      <td>0</td>\n",
       "      <td>1</td>\n",
       "      <td>112542.58</td>\n",
       "      <td>0</td>\n",
       "    </tr>\n",
       "    <tr>\n",
       "      <th>2</th>\n",
       "      <td>3</td>\n",
       "      <td>15619304</td>\n",
       "      <td>Onio</td>\n",
       "      <td>502</td>\n",
       "      <td>France</td>\n",
       "      <td>Female</td>\n",
       "      <td>42</td>\n",
       "      <td>8</td>\n",
       "      <td>159660.80</td>\n",
       "      <td>3</td>\n",
       "      <td>1</td>\n",
       "      <td>0</td>\n",
       "      <td>113931.57</td>\n",
       "      <td>1</td>\n",
       "    </tr>\n",
       "    <tr>\n",
       "      <th>3</th>\n",
       "      <td>4</td>\n",
       "      <td>15701354</td>\n",
       "      <td>Boni</td>\n",
       "      <td>699</td>\n",
       "      <td>France</td>\n",
       "      <td>Female</td>\n",
       "      <td>39</td>\n",
       "      <td>1</td>\n",
       "      <td>0.00</td>\n",
       "      <td>2</td>\n",
       "      <td>0</td>\n",
       "      <td>0</td>\n",
       "      <td>93826.63</td>\n",
       "      <td>0</td>\n",
       "    </tr>\n",
       "    <tr>\n",
       "      <th>4</th>\n",
       "      <td>5</td>\n",
       "      <td>15737888</td>\n",
       "      <td>Mitchell</td>\n",
       "      <td>850</td>\n",
       "      <td>Spain</td>\n",
       "      <td>Female</td>\n",
       "      <td>43</td>\n",
       "      <td>2</td>\n",
       "      <td>125510.82</td>\n",
       "      <td>1</td>\n",
       "      <td>1</td>\n",
       "      <td>1</td>\n",
       "      <td>79084.10</td>\n",
       "      <td>0</td>\n",
       "    </tr>\n",
       "  </tbody>\n",
       "</table>\n",
       "</div>"
      ],
      "text/plain": [
       "   RowNumber  CustomerId   Surname  CreditScore Geography  Gender  Age  \\\n",
       "0          1    15634602  Hargrave          619    France  Female   42   \n",
       "1          2    15647311      Hill          608     Spain  Female   41   \n",
       "2          3    15619304      Onio          502    France  Female   42   \n",
       "3          4    15701354      Boni          699    France  Female   39   \n",
       "4          5    15737888  Mitchell          850     Spain  Female   43   \n",
       "\n",
       "   Tenure    Balance  NumOfProducts  HasCrCard  IsActiveMember  \\\n",
       "0       2       0.00              1          1               1   \n",
       "1       1   83807.86              1          0               1   \n",
       "2       8  159660.80              3          1               0   \n",
       "3       1       0.00              2          0               0   \n",
       "4       2  125510.82              1          1               1   \n",
       "\n",
       "   EstimatedSalary  Exited  \n",
       "0        101348.88       1  \n",
       "1        112542.58       0  \n",
       "2        113931.57       1  \n",
       "3         93826.63       0  \n",
       "4         79084.10       0  "
      ]
     },
     "execution_count": 5,
     "metadata": {},
     "output_type": "execute_result"
    }
   ],
   "source": [
    "df.head()"
   ]
  },
  {
   "cell_type": "code",
   "execution_count": 6,
   "id": "db5cd166",
   "metadata": {},
   "outputs": [
    {
     "name": "stdout",
     "output_type": "stream",
     "text": [
      "Dataset shape: (10000, 14)\n"
     ]
    }
   ],
   "source": [
    "print(\"Dataset shape:\", df.shape)"
   ]
  },
  {
   "cell_type": "code",
   "execution_count": 7,
   "id": "34138af6",
   "metadata": {},
   "outputs": [
    {
     "name": "stdout",
     "output_type": "stream",
     "text": [
      "Data types and nulls:\n",
      "<class 'pandas.core.frame.DataFrame'>\n",
      "RangeIndex: 10000 entries, 0 to 9999\n",
      "Data columns (total 14 columns):\n",
      " #   Column           Non-Null Count  Dtype  \n",
      "---  ------           --------------  -----  \n",
      " 0   RowNumber        10000 non-null  int64  \n",
      " 1   CustomerId       10000 non-null  int64  \n",
      " 2   Surname          10000 non-null  object \n",
      " 3   CreditScore      10000 non-null  int64  \n",
      " 4   Geography        10000 non-null  object \n",
      " 5   Gender           10000 non-null  object \n",
      " 6   Age              10000 non-null  int64  \n",
      " 7   Tenure           10000 non-null  int64  \n",
      " 8   Balance          10000 non-null  float64\n",
      " 9   NumOfProducts    10000 non-null  int64  \n",
      " 10  HasCrCard        10000 non-null  int64  \n",
      " 11  IsActiveMember   10000 non-null  int64  \n",
      " 12  EstimatedSalary  10000 non-null  float64\n",
      " 13  Exited           10000 non-null  int64  \n",
      "dtypes: float64(2), int64(9), object(3)\n",
      "memory usage: 1.1+ MB\n"
     ]
    }
   ],
   "source": [
    "print(\"Data types and nulls:\")\n",
    "df.info()"
   ]
  },
  {
   "cell_type": "code",
   "execution_count": 8,
   "id": "4b025e27",
   "metadata": {},
   "outputs": [
    {
     "data": {
      "text/html": [
       "<div>\n",
       "<style scoped>\n",
       "    .dataframe tbody tr th:only-of-type {\n",
       "        vertical-align: middle;\n",
       "    }\n",
       "\n",
       "    .dataframe tbody tr th {\n",
       "        vertical-align: top;\n",
       "    }\n",
       "\n",
       "    .dataframe thead th {\n",
       "        text-align: right;\n",
       "    }\n",
       "</style>\n",
       "<table border=\"1\" class=\"dataframe\">\n",
       "  <thead>\n",
       "    <tr style=\"text-align: right;\">\n",
       "      <th></th>\n",
       "      <th>RowNumber</th>\n",
       "      <th>CustomerId</th>\n",
       "      <th>CreditScore</th>\n",
       "      <th>Age</th>\n",
       "      <th>Tenure</th>\n",
       "      <th>Balance</th>\n",
       "      <th>NumOfProducts</th>\n",
       "      <th>HasCrCard</th>\n",
       "      <th>IsActiveMember</th>\n",
       "      <th>EstimatedSalary</th>\n",
       "      <th>Exited</th>\n",
       "    </tr>\n",
       "  </thead>\n",
       "  <tbody>\n",
       "    <tr>\n",
       "      <th>count</th>\n",
       "      <td>10000.00000</td>\n",
       "      <td>1.000000e+04</td>\n",
       "      <td>10000.000000</td>\n",
       "      <td>10000.000000</td>\n",
       "      <td>10000.000000</td>\n",
       "      <td>10000.000000</td>\n",
       "      <td>10000.000000</td>\n",
       "      <td>10000.00000</td>\n",
       "      <td>10000.000000</td>\n",
       "      <td>10000.000000</td>\n",
       "      <td>10000.000000</td>\n",
       "    </tr>\n",
       "    <tr>\n",
       "      <th>mean</th>\n",
       "      <td>5000.50000</td>\n",
       "      <td>1.569094e+07</td>\n",
       "      <td>650.528800</td>\n",
       "      <td>38.921800</td>\n",
       "      <td>5.012800</td>\n",
       "      <td>76485.889288</td>\n",
       "      <td>1.530200</td>\n",
       "      <td>0.70550</td>\n",
       "      <td>0.515100</td>\n",
       "      <td>100090.239881</td>\n",
       "      <td>0.203700</td>\n",
       "    </tr>\n",
       "    <tr>\n",
       "      <th>std</th>\n",
       "      <td>2886.89568</td>\n",
       "      <td>7.193619e+04</td>\n",
       "      <td>96.653299</td>\n",
       "      <td>10.487806</td>\n",
       "      <td>2.892174</td>\n",
       "      <td>62397.405202</td>\n",
       "      <td>0.581654</td>\n",
       "      <td>0.45584</td>\n",
       "      <td>0.499797</td>\n",
       "      <td>57510.492818</td>\n",
       "      <td>0.402769</td>\n",
       "    </tr>\n",
       "    <tr>\n",
       "      <th>min</th>\n",
       "      <td>1.00000</td>\n",
       "      <td>1.556570e+07</td>\n",
       "      <td>350.000000</td>\n",
       "      <td>18.000000</td>\n",
       "      <td>0.000000</td>\n",
       "      <td>0.000000</td>\n",
       "      <td>1.000000</td>\n",
       "      <td>0.00000</td>\n",
       "      <td>0.000000</td>\n",
       "      <td>11.580000</td>\n",
       "      <td>0.000000</td>\n",
       "    </tr>\n",
       "    <tr>\n",
       "      <th>25%</th>\n",
       "      <td>2500.75000</td>\n",
       "      <td>1.562853e+07</td>\n",
       "      <td>584.000000</td>\n",
       "      <td>32.000000</td>\n",
       "      <td>3.000000</td>\n",
       "      <td>0.000000</td>\n",
       "      <td>1.000000</td>\n",
       "      <td>0.00000</td>\n",
       "      <td>0.000000</td>\n",
       "      <td>51002.110000</td>\n",
       "      <td>0.000000</td>\n",
       "    </tr>\n",
       "    <tr>\n",
       "      <th>50%</th>\n",
       "      <td>5000.50000</td>\n",
       "      <td>1.569074e+07</td>\n",
       "      <td>652.000000</td>\n",
       "      <td>37.000000</td>\n",
       "      <td>5.000000</td>\n",
       "      <td>97198.540000</td>\n",
       "      <td>1.000000</td>\n",
       "      <td>1.00000</td>\n",
       "      <td>1.000000</td>\n",
       "      <td>100193.915000</td>\n",
       "      <td>0.000000</td>\n",
       "    </tr>\n",
       "    <tr>\n",
       "      <th>75%</th>\n",
       "      <td>7500.25000</td>\n",
       "      <td>1.575323e+07</td>\n",
       "      <td>718.000000</td>\n",
       "      <td>44.000000</td>\n",
       "      <td>7.000000</td>\n",
       "      <td>127644.240000</td>\n",
       "      <td>2.000000</td>\n",
       "      <td>1.00000</td>\n",
       "      <td>1.000000</td>\n",
       "      <td>149388.247500</td>\n",
       "      <td>0.000000</td>\n",
       "    </tr>\n",
       "    <tr>\n",
       "      <th>max</th>\n",
       "      <td>10000.00000</td>\n",
       "      <td>1.581569e+07</td>\n",
       "      <td>850.000000</td>\n",
       "      <td>92.000000</td>\n",
       "      <td>10.000000</td>\n",
       "      <td>250898.090000</td>\n",
       "      <td>4.000000</td>\n",
       "      <td>1.00000</td>\n",
       "      <td>1.000000</td>\n",
       "      <td>199992.480000</td>\n",
       "      <td>1.000000</td>\n",
       "    </tr>\n",
       "  </tbody>\n",
       "</table>\n",
       "</div>"
      ],
      "text/plain": [
       "         RowNumber    CustomerId   CreditScore           Age        Tenure  \\\n",
       "count  10000.00000  1.000000e+04  10000.000000  10000.000000  10000.000000   \n",
       "mean    5000.50000  1.569094e+07    650.528800     38.921800      5.012800   \n",
       "std     2886.89568  7.193619e+04     96.653299     10.487806      2.892174   \n",
       "min        1.00000  1.556570e+07    350.000000     18.000000      0.000000   \n",
       "25%     2500.75000  1.562853e+07    584.000000     32.000000      3.000000   \n",
       "50%     5000.50000  1.569074e+07    652.000000     37.000000      5.000000   \n",
       "75%     7500.25000  1.575323e+07    718.000000     44.000000      7.000000   \n",
       "max    10000.00000  1.581569e+07    850.000000     92.000000     10.000000   \n",
       "\n",
       "             Balance  NumOfProducts    HasCrCard  IsActiveMember  \\\n",
       "count   10000.000000   10000.000000  10000.00000    10000.000000   \n",
       "mean    76485.889288       1.530200      0.70550        0.515100   \n",
       "std     62397.405202       0.581654      0.45584        0.499797   \n",
       "min         0.000000       1.000000      0.00000        0.000000   \n",
       "25%         0.000000       1.000000      0.00000        0.000000   \n",
       "50%     97198.540000       1.000000      1.00000        1.000000   \n",
       "75%    127644.240000       2.000000      1.00000        1.000000   \n",
       "max    250898.090000       4.000000      1.00000        1.000000   \n",
       "\n",
       "       EstimatedSalary        Exited  \n",
       "count     10000.000000  10000.000000  \n",
       "mean     100090.239881      0.203700  \n",
       "std       57510.492818      0.402769  \n",
       "min          11.580000      0.000000  \n",
       "25%       51002.110000      0.000000  \n",
       "50%      100193.915000      0.000000  \n",
       "75%      149388.247500      0.000000  \n",
       "max      199992.480000      1.000000  "
      ]
     },
     "execution_count": 8,
     "metadata": {},
     "output_type": "execute_result"
    }
   ],
   "source": [
    "# Check statistics and duplicates\n",
    "df.describe()"
   ]
  },
  {
   "cell_type": "code",
   "execution_count": 9,
   "id": "5d8a4fa2",
   "metadata": {},
   "outputs": [
    {
     "name": "stdout",
     "output_type": "stream",
     "text": [
      "Missing values per column:\n",
      "RowNumber          0\n",
      "CustomerId         0\n",
      "Surname            0\n",
      "CreditScore        0\n",
      "Geography          0\n",
      "Gender             0\n",
      "Age                0\n",
      "Tenure             0\n",
      "Balance            0\n",
      "NumOfProducts      0\n",
      "HasCrCard          0\n",
      "IsActiveMember     0\n",
      "EstimatedSalary    0\n",
      "Exited             0\n",
      "dtype: int64\n"
     ]
    }
   ],
   "source": [
    "print(\"Missing values per column:\")\n",
    "print(df.isna().sum())"
   ]
  },
  {
   "cell_type": "code",
   "execution_count": 10,
   "id": "19e4e0a6",
   "metadata": {},
   "outputs": [
    {
     "name": "stdout",
     "output_type": "stream",
     "text": [
      "\n",
      "Number of duplicate rows: 0\n"
     ]
    }
   ],
   "source": [
    "print(\"\\nNumber of duplicate rows:\", df.duplicated().sum())"
   ]
  },
  {
   "cell_type": "markdown",
   "id": "815174ef",
   "metadata": {},
   "source": [
    "### 3. Feature Selection and Target Separation"
   ]
  },
  {
   "cell_type": "code",
   "execution_count": 11,
   "id": "1d8ee739",
   "metadata": {},
   "outputs": [],
   "source": [
    "# Select independent features (columns 3 to 12)\n",
    "X = df.iloc[:,3:13]"
   ]
  },
  {
   "cell_type": "code",
   "execution_count": 12,
   "id": "54c287ef",
   "metadata": {},
   "outputs": [],
   "source": [
    "# Select Target variable\n",
    "y = df.iloc[:,13]"
   ]
  },
  {
   "cell_type": "code",
   "execution_count": 13,
   "id": "6f68f77e",
   "metadata": {},
   "outputs": [
    {
     "name": "stdout",
     "output_type": "stream",
     "text": [
      "\n",
      "Features sample:\n"
     ]
    },
    {
     "data": {
      "text/html": [
       "<div>\n",
       "<style scoped>\n",
       "    .dataframe tbody tr th:only-of-type {\n",
       "        vertical-align: middle;\n",
       "    }\n",
       "\n",
       "    .dataframe tbody tr th {\n",
       "        vertical-align: top;\n",
       "    }\n",
       "\n",
       "    .dataframe thead th {\n",
       "        text-align: right;\n",
       "    }\n",
       "</style>\n",
       "<table border=\"1\" class=\"dataframe\">\n",
       "  <thead>\n",
       "    <tr style=\"text-align: right;\">\n",
       "      <th></th>\n",
       "      <th>CreditScore</th>\n",
       "      <th>Geography</th>\n",
       "      <th>Gender</th>\n",
       "      <th>Age</th>\n",
       "      <th>Tenure</th>\n",
       "      <th>Balance</th>\n",
       "      <th>NumOfProducts</th>\n",
       "      <th>HasCrCard</th>\n",
       "      <th>IsActiveMember</th>\n",
       "      <th>EstimatedSalary</th>\n",
       "    </tr>\n",
       "  </thead>\n",
       "  <tbody>\n",
       "    <tr>\n",
       "      <th>0</th>\n",
       "      <td>619</td>\n",
       "      <td>France</td>\n",
       "      <td>Female</td>\n",
       "      <td>42</td>\n",
       "      <td>2</td>\n",
       "      <td>0.00</td>\n",
       "      <td>1</td>\n",
       "      <td>1</td>\n",
       "      <td>1</td>\n",
       "      <td>101348.88</td>\n",
       "    </tr>\n",
       "    <tr>\n",
       "      <th>1</th>\n",
       "      <td>608</td>\n",
       "      <td>Spain</td>\n",
       "      <td>Female</td>\n",
       "      <td>41</td>\n",
       "      <td>1</td>\n",
       "      <td>83807.86</td>\n",
       "      <td>1</td>\n",
       "      <td>0</td>\n",
       "      <td>1</td>\n",
       "      <td>112542.58</td>\n",
       "    </tr>\n",
       "    <tr>\n",
       "      <th>2</th>\n",
       "      <td>502</td>\n",
       "      <td>France</td>\n",
       "      <td>Female</td>\n",
       "      <td>42</td>\n",
       "      <td>8</td>\n",
       "      <td>159660.80</td>\n",
       "      <td>3</td>\n",
       "      <td>1</td>\n",
       "      <td>0</td>\n",
       "      <td>113931.57</td>\n",
       "    </tr>\n",
       "    <tr>\n",
       "      <th>3</th>\n",
       "      <td>699</td>\n",
       "      <td>France</td>\n",
       "      <td>Female</td>\n",
       "      <td>39</td>\n",
       "      <td>1</td>\n",
       "      <td>0.00</td>\n",
       "      <td>2</td>\n",
       "      <td>0</td>\n",
       "      <td>0</td>\n",
       "      <td>93826.63</td>\n",
       "    </tr>\n",
       "    <tr>\n",
       "      <th>4</th>\n",
       "      <td>850</td>\n",
       "      <td>Spain</td>\n",
       "      <td>Female</td>\n",
       "      <td>43</td>\n",
       "      <td>2</td>\n",
       "      <td>125510.82</td>\n",
       "      <td>1</td>\n",
       "      <td>1</td>\n",
       "      <td>1</td>\n",
       "      <td>79084.10</td>\n",
       "    </tr>\n",
       "  </tbody>\n",
       "</table>\n",
       "</div>"
      ],
      "text/plain": [
       "   CreditScore Geography  Gender  Age  Tenure    Balance  NumOfProducts  \\\n",
       "0          619    France  Female   42       2       0.00              1   \n",
       "1          608     Spain  Female   41       1   83807.86              1   \n",
       "2          502    France  Female   42       8  159660.80              3   \n",
       "3          699    France  Female   39       1       0.00              2   \n",
       "4          850     Spain  Female   43       2  125510.82              1   \n",
       "\n",
       "   HasCrCard  IsActiveMember  EstimatedSalary  \n",
       "0          1               1        101348.88  \n",
       "1          0               1        112542.58  \n",
       "2          1               0        113931.57  \n",
       "3          0               0         93826.63  \n",
       "4          1               1         79084.10  "
      ]
     },
     "execution_count": 13,
     "metadata": {},
     "output_type": "execute_result"
    }
   ],
   "source": [
    "print(\"\\nFeatures sample:\")\n",
    "X.head()"
   ]
  },
  {
   "cell_type": "code",
   "execution_count": 14,
   "id": "7706be52",
   "metadata": {},
   "outputs": [
    {
     "name": "stdout",
     "output_type": "stream",
     "text": [
      "\n",
      "Target sample:\n",
      "0    1\n",
      "1    0\n",
      "2    1\n",
      "3    0\n",
      "4    0\n",
      "Name: Exited, dtype: int64\n"
     ]
    }
   ],
   "source": [
    "print(\"\\nTarget sample:\")\n",
    "print(y.head())"
   ]
  },
  {
   "cell_type": "markdown",
   "id": "484ede25",
   "metadata": {},
   "source": [
    "### 4. Encoding Categorical Features (One-Hot)"
   ]
  },
  {
   "cell_type": "code",
   "execution_count": 15,
   "id": "2c7be8f2",
   "metadata": {},
   "outputs": [],
   "source": [
    "# One-hot encode 'Geography' and 'Gender', drop one category to avoid dummy variable trap\n",
    "\n",
    "geography_encoded = pd.get_dummies(X['Geography'], drop_first=True)\n",
    "gender_encoded = pd.get_dummies(X['Gender'], drop_first=True)"
   ]
  },
  {
   "cell_type": "code",
   "execution_count": 16,
   "id": "c7f94c14",
   "metadata": {},
   "outputs": [],
   "source": [
    "# Drop original categorical columns\n",
    "X.drop(['Geography', 'Gender'], axis=1, inplace=True)"
   ]
  },
  {
   "cell_type": "code",
   "execution_count": 17,
   "id": "e973058c",
   "metadata": {},
   "outputs": [],
   "source": [
    "# Concatenate encoded columns\n",
    "X = pd.concat([X, geography_encoded, gender_encoded], axis=1).astype(int)"
   ]
  },
  {
   "cell_type": "code",
   "execution_count": 18,
   "id": "30389afe",
   "metadata": {},
   "outputs": [
    {
     "name": "stdout",
     "output_type": "stream",
     "text": [
      "\n",
      "Encoded feature sample:\n"
     ]
    },
    {
     "data": {
      "text/html": [
       "<div>\n",
       "<style scoped>\n",
       "    .dataframe tbody tr th:only-of-type {\n",
       "        vertical-align: middle;\n",
       "    }\n",
       "\n",
       "    .dataframe tbody tr th {\n",
       "        vertical-align: top;\n",
       "    }\n",
       "\n",
       "    .dataframe thead th {\n",
       "        text-align: right;\n",
       "    }\n",
       "</style>\n",
       "<table border=\"1\" class=\"dataframe\">\n",
       "  <thead>\n",
       "    <tr style=\"text-align: right;\">\n",
       "      <th></th>\n",
       "      <th>CreditScore</th>\n",
       "      <th>Age</th>\n",
       "      <th>Tenure</th>\n",
       "      <th>Balance</th>\n",
       "      <th>NumOfProducts</th>\n",
       "      <th>HasCrCard</th>\n",
       "      <th>IsActiveMember</th>\n",
       "      <th>EstimatedSalary</th>\n",
       "      <th>Germany</th>\n",
       "      <th>Spain</th>\n",
       "      <th>Male</th>\n",
       "    </tr>\n",
       "  </thead>\n",
       "  <tbody>\n",
       "    <tr>\n",
       "      <th>0</th>\n",
       "      <td>619</td>\n",
       "      <td>42</td>\n",
       "      <td>2</td>\n",
       "      <td>0</td>\n",
       "      <td>1</td>\n",
       "      <td>1</td>\n",
       "      <td>1</td>\n",
       "      <td>101348</td>\n",
       "      <td>0</td>\n",
       "      <td>0</td>\n",
       "      <td>0</td>\n",
       "    </tr>\n",
       "    <tr>\n",
       "      <th>1</th>\n",
       "      <td>608</td>\n",
       "      <td>41</td>\n",
       "      <td>1</td>\n",
       "      <td>83807</td>\n",
       "      <td>1</td>\n",
       "      <td>0</td>\n",
       "      <td>1</td>\n",
       "      <td>112542</td>\n",
       "      <td>0</td>\n",
       "      <td>1</td>\n",
       "      <td>0</td>\n",
       "    </tr>\n",
       "    <tr>\n",
       "      <th>2</th>\n",
       "      <td>502</td>\n",
       "      <td>42</td>\n",
       "      <td>8</td>\n",
       "      <td>159660</td>\n",
       "      <td>3</td>\n",
       "      <td>1</td>\n",
       "      <td>0</td>\n",
       "      <td>113931</td>\n",
       "      <td>0</td>\n",
       "      <td>0</td>\n",
       "      <td>0</td>\n",
       "    </tr>\n",
       "    <tr>\n",
       "      <th>3</th>\n",
       "      <td>699</td>\n",
       "      <td>39</td>\n",
       "      <td>1</td>\n",
       "      <td>0</td>\n",
       "      <td>2</td>\n",
       "      <td>0</td>\n",
       "      <td>0</td>\n",
       "      <td>93826</td>\n",
       "      <td>0</td>\n",
       "      <td>0</td>\n",
       "      <td>0</td>\n",
       "    </tr>\n",
       "    <tr>\n",
       "      <th>4</th>\n",
       "      <td>850</td>\n",
       "      <td>43</td>\n",
       "      <td>2</td>\n",
       "      <td>125510</td>\n",
       "      <td>1</td>\n",
       "      <td>1</td>\n",
       "      <td>1</td>\n",
       "      <td>79084</td>\n",
       "      <td>0</td>\n",
       "      <td>1</td>\n",
       "      <td>0</td>\n",
       "    </tr>\n",
       "  </tbody>\n",
       "</table>\n",
       "</div>"
      ],
      "text/plain": [
       "   CreditScore  Age  Tenure  Balance  NumOfProducts  HasCrCard  \\\n",
       "0          619   42       2        0              1          1   \n",
       "1          608   41       1    83807              1          0   \n",
       "2          502   42       8   159660              3          1   \n",
       "3          699   39       1        0              2          0   \n",
       "4          850   43       2   125510              1          1   \n",
       "\n",
       "   IsActiveMember  EstimatedSalary  Germany  Spain  Male  \n",
       "0               1           101348        0      0     0  \n",
       "1               1           112542        0      1     0  \n",
       "2               0           113931        0      0     0  \n",
       "3               0            93826        0      0     0  \n",
       "4               1            79084        0      1     0  "
      ]
     },
     "execution_count": 18,
     "metadata": {},
     "output_type": "execute_result"
    }
   ],
   "source": [
    "print(\"\\nEncoded feature sample:\")\n",
    "X.head()"
   ]
  },
  {
   "cell_type": "markdown",
   "id": "dcfbcb60",
   "metadata": {},
   "source": [
    "### 5. Train-Test Split and Feature Scaling"
   ]
  },
  {
   "cell_type": "code",
   "execution_count": 21,
   "id": "0108d238",
   "metadata": {},
   "outputs": [],
   "source": [
    "from sklearn.model_selection import train_test_split"
   ]
  },
  {
   "cell_type": "code",
   "execution_count": 22,
   "id": "b18b1738",
   "metadata": {},
   "outputs": [],
   "source": [
    "# Split data: 80% training, 20% testing\n",
    "X_train, X_test, y_train, y_test = train_test_split(X, y, test_size=0.2, random_state=42)"
   ]
  },
  {
   "cell_type": "code",
   "execution_count": 23,
   "id": "bb4f648e",
   "metadata": {},
   "outputs": [],
   "source": [
    "from sklearn.preprocessing import StandardScaler"
   ]
  },
  {
   "cell_type": "code",
   "execution_count": 24,
   "id": "486cb100",
   "metadata": {},
   "outputs": [],
   "source": [
    "# Scale features for better ANN performance\n",
    "scaler = StandardScaler()\n",
    "X_train = scaler.fit_transform(X_train)\n",
    "X_test = scaler.transform(X_test)"
   ]
  },
  {
   "cell_type": "code",
   "execution_count": 25,
   "id": "531370a4",
   "metadata": {},
   "outputs": [
    {
     "name": "stdout",
     "output_type": "stream",
     "text": [
      "\n",
      "Training features shape: (8000, 11)\n",
      "Test features shape: (2000, 11)\n"
     ]
    }
   ],
   "source": [
    "print(\"\\nTraining features shape:\", X_train.shape)\n",
    "print(\"Test features shape:\", X_test.shape)"
   ]
  },
  {
   "cell_type": "markdown",
   "id": "b58b9bfd",
   "metadata": {},
   "source": [
    "### 6. Build the ANN Model"
   ]
  },
  {
   "cell_type": "code",
   "execution_count": 26,
   "id": "f0f89849",
   "metadata": {},
   "outputs": [],
   "source": [
    "from tensorflow.keras.models import Sequential\n",
    "from tensorflow.keras.layers import Dense\n",
    "from sklearn.metrics import accuracy_score, confusion_matrix"
   ]
  },
  {
   "cell_type": "code",
   "execution_count": 27,
   "id": "520302ba",
   "metadata": {},
   "outputs": [],
   "source": [
    "model = Sequential()"
   ]
  },
  {
   "cell_type": "code",
   "execution_count": 29,
   "id": "daf8d525",
   "metadata": {},
   "outputs": [],
   "source": [
    "# Input layer + first hidden layer\n",
    "model.add(Dense(units=11, activation='relu', input_dim=X_train.shape[1]))"
   ]
  },
  {
   "cell_type": "code",
   "execution_count": 30,
   "id": "ab1b968a",
   "metadata": {},
   "outputs": [],
   "source": [
    "# Second hidden layer\n",
    "model.add(Dense(units=7, activation='relu'))"
   ]
  },
  {
   "cell_type": "code",
   "execution_count": 31,
   "id": "1cf30159",
   "metadata": {},
   "outputs": [],
   "source": [
    "# Output layer (binary classification)\n",
    "model.add(Dense(units=1, activation='sigmoid'))"
   ]
  },
  {
   "cell_type": "code",
   "execution_count": 32,
   "id": "4e35d96f",
   "metadata": {},
   "outputs": [
    {
     "name": "stdout",
     "output_type": "stream",
     "text": [
      "Model: \"sequential\"\n",
      "_________________________________________________________________\n",
      " Layer (type)                Output Shape              Param #   \n",
      "=================================================================\n",
      " dense (Dense)               (None, 11)                132       \n",
      "                                                                 \n",
      " dense_1 (Dense)             (None, 11)                132       \n",
      "                                                                 \n",
      " dense_2 (Dense)             (None, 7)                 84        \n",
      "                                                                 \n",
      " dense_3 (Dense)             (None, 1)                 8         \n",
      "                                                                 \n",
      "=================================================================\n",
      "Total params: 356 (1.39 KB)\n",
      "Trainable params: 356 (1.39 KB)\n",
      "Non-trainable params: 0 (0.00 Byte)\n",
      "_________________________________________________________________\n"
     ]
    }
   ],
   "source": [
    "# Model summary\n",
    "model.summary()"
   ]
  },
  {
   "cell_type": "markdown",
   "id": "1bf7ea0e",
   "metadata": {},
   "source": [
    "### 7. Compile the ANN Model"
   ]
  },
  {
   "cell_type": "code",
   "execution_count": 33,
   "id": "c62101e5",
   "metadata": {},
   "outputs": [],
   "source": [
    "# Use Adam optimizer with learning rate control\n",
    "optimizer = tf.keras.optimizers.Adam(learning_rate=0.01)"
   ]
  },
  {
   "cell_type": "code",
   "execution_count": 34,
   "id": "cff015f4",
   "metadata": {},
   "outputs": [],
   "source": [
    "# Compile model with binary classification loss\n",
    "model.compile(optimizer=optimizer,\n",
    "              loss='binary_crossentropy',\n",
    "              metrics=['accuracy'])"
   ]
  },
  {
   "cell_type": "markdown",
   "id": "c3ea8554",
   "metadata": {},
   "source": [
    "### 8. Train the Model with Early Stopping\n"
   ]
  },
  {
   "cell_type": "markdown",
   "id": "d91280db",
   "metadata": {},
   "source": [
    "🔁 What Is EarlyStopping?\n",
    "\n",
    "During training, sometimes a model will start to overfit — its accuracy on training data keeps improving, but its accuracy (or loss) on validation data starts to get worse.\n",
    "\n",
    "➡️ EarlyStopping watches a chosen metric (like 'val_loss') and automatically stops training when that metric stops improving."
   ]
  },
  {
   "cell_type": "markdown",
   "id": "6d5af70c",
   "metadata": {},
   "source": [
    "| Parameter                   | What It Means                                                                                    |\n",
    "| --------------------------- | ------------------------------------------------------------------------------------------------ |\n",
    "| `monitor='val_loss'`        | 🔍 Tells Keras to watch the validation loss (you could also use `'val_accuracy'`, etc.)          |\n",
    "| `patience=20`               | ⏳ Wait **20 epochs** after the last improvement before stopping training                         |\n",
    "| `min_delta=0.0001`          | 🔼 A change smaller than this is **not considered an improvement**                               |\n",
    "| `verbose=1`                 | 📢 Prints a message when early stopping happens                                                  |\n",
    "| `restore_best_weights=True` | ✅ After stopping, it **restores the model weights from the epoch with the best validation loss** |\n"
   ]
  },
  {
   "cell_type": "code",
   "execution_count": 36,
   "id": "886ffb88",
   "metadata": {},
   "outputs": [],
   "source": [
    "# Define early stopping to prevent overfitting\n",
    "early_stopping = tf.keras.callbacks.EarlyStopping(\n",
    "    monitor='val_loss',\n",
    "    patience=20,\n",
    "    min_delta=0.0001,\n",
    "    verbose=1,\n",
    "    restore_best_weights=True\n",
    ")"
   ]
  },
  {
   "cell_type": "code",
   "execution_count": 37,
   "id": "f0e0953e",
   "metadata": {},
   "outputs": [
    {
     "name": "stdout",
     "output_type": "stream",
     "text": [
      "Epoch 1/100\n",
      "536/536 [==============================] - 3s 3ms/step - loss: 0.4230 - accuracy: 0.8209 - val_loss: 0.3902 - val_accuracy: 0.8304\n",
      "Epoch 2/100\n",
      "536/536 [==============================] - 1s 2ms/step - loss: 0.3636 - accuracy: 0.8513 - val_loss: 0.4010 - val_accuracy: 0.8402\n",
      "Epoch 3/100\n",
      "536/536 [==============================] - 1s 2ms/step - loss: 0.3498 - accuracy: 0.8593 - val_loss: 0.3825 - val_accuracy: 0.8459\n",
      "Epoch 4/100\n",
      "536/536 [==============================] - 1s 2ms/step - loss: 0.3465 - accuracy: 0.8580 - val_loss: 0.3609 - val_accuracy: 0.8504\n",
      "Epoch 5/100\n",
      "536/536 [==============================] - 1s 2ms/step - loss: 0.3429 - accuracy: 0.8608 - val_loss: 0.3659 - val_accuracy: 0.8497\n",
      "Epoch 6/100\n",
      "536/536 [==============================] - 1s 2ms/step - loss: 0.3414 - accuracy: 0.8627 - val_loss: 0.3600 - val_accuracy: 0.8501\n",
      "Epoch 7/100\n",
      "536/536 [==============================] - 1s 2ms/step - loss: 0.3374 - accuracy: 0.8649 - val_loss: 0.3566 - val_accuracy: 0.8523\n",
      "Epoch 8/100\n",
      "536/536 [==============================] - 1s 2ms/step - loss: 0.3359 - accuracy: 0.8636 - val_loss: 0.3647 - val_accuracy: 0.8463\n",
      "Epoch 9/100\n",
      "536/536 [==============================] - 1s 2ms/step - loss: 0.3332 - accuracy: 0.8656 - val_loss: 0.3643 - val_accuracy: 0.8463\n",
      "Epoch 10/100\n",
      "536/536 [==============================] - 1s 2ms/step - loss: 0.3342 - accuracy: 0.8664 - val_loss: 0.3662 - val_accuracy: 0.8489\n",
      "Epoch 11/100\n",
      "536/536 [==============================] - 1s 2ms/step - loss: 0.3321 - accuracy: 0.8686 - val_loss: 0.3693 - val_accuracy: 0.8504\n",
      "Epoch 12/100\n",
      "536/536 [==============================] - 1s 2ms/step - loss: 0.3321 - accuracy: 0.8640 - val_loss: 0.3769 - val_accuracy: 0.8444\n",
      "Epoch 13/100\n",
      "536/536 [==============================] - 1s 2ms/step - loss: 0.3310 - accuracy: 0.8632 - val_loss: 0.3594 - val_accuracy: 0.8538\n",
      "Epoch 14/100\n",
      "536/536 [==============================] - 1s 2ms/step - loss: 0.3260 - accuracy: 0.8701 - val_loss: 0.3727 - val_accuracy: 0.8516\n",
      "Epoch 15/100\n",
      "536/536 [==============================] - 1s 2ms/step - loss: 0.3287 - accuracy: 0.8666 - val_loss: 0.3606 - val_accuracy: 0.8497\n",
      "Epoch 16/100\n",
      "536/536 [==============================] - 1s 2ms/step - loss: 0.3306 - accuracy: 0.8649 - val_loss: 0.3596 - val_accuracy: 0.8489\n",
      "Epoch 17/100\n",
      "536/536 [==============================] - 1s 2ms/step - loss: 0.3281 - accuracy: 0.8671 - val_loss: 0.3743 - val_accuracy: 0.8542\n",
      "Epoch 18/100\n",
      "536/536 [==============================] - 1s 2ms/step - loss: 0.3285 - accuracy: 0.8668 - val_loss: 0.3655 - val_accuracy: 0.8519\n",
      "Epoch 19/100\n",
      "536/536 [==============================] - 1s 2ms/step - loss: 0.3269 - accuracy: 0.8658 - val_loss: 0.3622 - val_accuracy: 0.8501\n",
      "Epoch 20/100\n",
      "536/536 [==============================] - 1s 2ms/step - loss: 0.3273 - accuracy: 0.8701 - val_loss: 0.3644 - val_accuracy: 0.8463\n",
      "Epoch 21/100\n",
      "536/536 [==============================] - 1s 2ms/step - loss: 0.3250 - accuracy: 0.8698 - val_loss: 0.3576 - val_accuracy: 0.8523\n",
      "Epoch 22/100\n",
      "536/536 [==============================] - 1s 2ms/step - loss: 0.3213 - accuracy: 0.8699 - val_loss: 0.3986 - val_accuracy: 0.8429\n",
      "Epoch 23/100\n",
      "536/536 [==============================] - 1s 2ms/step - loss: 0.3265 - accuracy: 0.8643 - val_loss: 0.3580 - val_accuracy: 0.8523\n",
      "Epoch 24/100\n",
      "536/536 [==============================] - 1s 2ms/step - loss: 0.3215 - accuracy: 0.8707 - val_loss: 0.3621 - val_accuracy: 0.8504\n",
      "Epoch 25/100\n",
      "536/536 [==============================] - 1s 2ms/step - loss: 0.3229 - accuracy: 0.8688 - val_loss: 0.3706 - val_accuracy: 0.8493\n",
      "Epoch 26/100\n",
      "536/536 [==============================] - 1s 2ms/step - loss: 0.3229 - accuracy: 0.8703 - val_loss: 0.3619 - val_accuracy: 0.8493\n",
      "Epoch 27/100\n",
      "515/536 [===========================>..] - ETA: 0s - loss: 0.3238 - accuracy: 0.8693Restoring model weights from the end of the best epoch: 7.\n",
      "536/536 [==============================] - 1s 2ms/step - loss: 0.3224 - accuracy: 0.8701 - val_loss: 0.3640 - val_accuracy: 0.8527\n",
      "Epoch 27: early stopping\n"
     ]
    }
   ],
   "source": [
    "# Fit the model\n",
    "history = model.fit(X_train, y_train,\n",
    "                    validation_split=0.33,\n",
    "                    batch_size=10,\n",
    "                    epochs=100,\n",
    "                    callbacks=[early_stopping],\n",
    "                    verbose=1)"
   ]
  },
  {
   "cell_type": "markdown",
   "id": "f6a0cf0a",
   "metadata": {},
   "source": [
    "### 9. Plot Accuracy and Loss"
   ]
  },
  {
   "cell_type": "code",
   "execution_count": 38,
   "id": "9b7771e8",
   "metadata": {},
   "outputs": [
    {
     "data": {
      "image/png": "[encoded data removed]",
      "text/plain": [
       "<Figure size 640x480 with 1 Axes>"
      ]
     },
     "metadata": {},
     "output_type": "display_data"
    }
   ],
   "source": [
    "# Accuracy plot\n",
    "plt.plot(history.history['accuracy'], label='Train Accuracy')\n",
    "plt.plot(history.history['val_accuracy'], label='Validation Accuracy')\n",
    "plt.title('Model Accuracy')\n",
    "plt.xlabel('Epoch')\n",
    "plt.ylabel('Accuracy')\n",
    "plt.legend()\n",
    "plt.grid(True)\n",
    "plt.show()"
   ]
  },
  {
   "cell_type": "code",
   "execution_count": 39,
   "id": "ba69cafa",
   "metadata": {},
   "outputs": [
    {
     "data": {
      "image/png": "[encoded data removed]",
      "text/plain": [
       "<Figure size 640x480 with 1 Axes>"
      ]
     },
     "metadata": {},
     "output_type": "display_data"
    }
   ],
   "source": [
    "# Loss plot\n",
    "plt.plot(history.history['loss'], label='Train Loss')\n",
    "plt.plot(history.history['val_loss'], label='Validation Loss')\n",
    "plt.title('Model Loss')\n",
    "plt.xlabel('Epoch')\n",
    "plt.ylabel('Loss')\n",
    "plt.legend()\n",
    "plt.grid(True)\n",
    "plt.show()"
   ]
  },
  {
   "cell_type": "markdown",
   "id": "f8be65b5",
   "metadata": {},
   "source": [
    "### 10. Evaluate on Test Dataset"
   ]
  },
  {
   "cell_type": "code",
   "execution_count": 40,
   "id": "befa9c87",
   "metadata": {},
   "outputs": [
    {
     "name": "stdout",
     "output_type": "stream",
     "text": [
      "63/63 [==============================] - 0s 964us/step\n"
     ]
    }
   ],
   "source": [
    "# Predict on test set\n",
    "y_pred_probs = model.predict(X_test)\n",
    "y_pred = (y_pred_probs > 0.5).astype(int)"
   ]
  },
  {
   "cell_type": "code",
   "execution_count": 57,
   "id": "13e9b91e",
   "metadata": {},
   "outputs": [
    {
     "name": "stdout",
     "output_type": "stream",
     "text": [
      "[1]\n"
     ]
    }
   ],
   "source": [
    "print(y_pred[588])"
   ]
  },
  {
   "cell_type": "code",
   "execution_count": 58,
   "id": "b1b27075",
   "metadata": {},
   "outputs": [
    {
     "name": "stdout",
     "output_type": "stream",
     "text": [
      "\n",
      "Test Accuracy: 0.8635\n"
     ]
    }
   ],
   "source": [
    "# Accuracy\n",
    "test_accuracy = accuracy_score(y_test, y_pred)\n",
    "print(\"\\nTest Accuracy:\", round(test_accuracy, 4))"
   ]
  },
  {
   "cell_type": "code",
   "execution_count": 59,
   "id": "0ae545b6",
   "metadata": {},
   "outputs": [
    {
     "name": "stdout",
     "output_type": "stream",
     "text": [
      "\n",
      "Confusion Matrix:\n",
      " [[1536   71]\n",
      " [ 202  191]]\n"
     ]
    }
   ],
   "source": [
    "# Confusion Matrix\n",
    "conf_matrix = confusion_matrix(y_test, y_pred)\n",
    "print(\"\\nConfusion Matrix:\\n\", conf_matrix)"
   ]
  },
  {
   "cell_type": "markdown",
   "id": "0b6cb48b",
   "metadata": {},
   "source": [
    "### 11. Save the Trained Model"
   ]
  },
  {
   "cell_type": "code",
   "execution_count": 60,
   "id": "a824bc31",
   "metadata": {},
   "outputs": [
    {
     "name": "stderr",
     "output_type": "stream",
     "text": [
      "d:\\AIML And DSA\\AI Projects\\Deep Learning\\.venv\\lib\\site-packages\\keras\\src\\engine\\training.py:3000: UserWarning: You are saving your model as an HDF5 file via `model.save()`. This file format is considered legacy. We recommend using instead the native Keras format, e.g. `model.save('my_model.keras')`.\n",
      "  saving_api.save_model(\n"
     ]
    }
   ],
   "source": [
    "# Save entire model to a file\n",
    "model.save(\"churn_model.h5\")  # HDF5 format"
   ]
  },
  {
   "cell_type": "markdown",
   "id": "9a29866e",
   "metadata": {},
   "source": [
    "### 12. Load the Model Later (in another script or app)"
   ]
  },
  {
   "cell_type": "code",
   "execution_count": 61,
   "id": "73741440",
   "metadata": {},
   "outputs": [],
   "source": [
    "from tensorflow.keras.models import load_model"
   ]
  },
  {
   "cell_type": "code",
   "execution_count": 62,
   "id": "86b2593a",
   "metadata": {},
   "outputs": [],
   "source": [
    "# Load the Save Model\n",
    "loaded_model = load_model(\"churn_model.h5\")"
   ]
  },
  {
   "cell_type": "markdown",
   "id": "7a7b8568",
   "metadata": {},
   "source": [
    "### 13. Save and Load the Scaler (Optional but Recommended) "
   ]
  },
  {
   "cell_type": "code",
   "execution_count": null,
   "id": "16e8837b",
   "metadata": {},
   "outputs": [],
   "source": [
    "import joblib\n",
    "\n",
    "# Save the scaler\n",
    "joblib.dump(scaler, \"scaler.pkl\")\n",
    "\n",
    "# # Load the scaler\n",
    "# scaler = joblib.load(\"scaler.pkl\")\n"
   ]
  },
  {
   "cell_type": "markdown",
   "id": "7325e021",
   "metadata": {},
   "source": [
    "### 14. Input-Based Prediction System"
   ]
  },
  {
   "cell_type": "code",
   "execution_count": null,
   "id": "9d8065c4",
   "metadata": {},
   "outputs": [
    {
     "name": "stdout",
     "output_type": "stream",
     "text": [
      "🔮 Bank Customer Churn Prediction System 🔮\n",
      "Please provide the following details:\n",
      "1/1 [==============================] - 0s 45ms/step\n",
      "\n",
      "🧾 Prediction Results:\n",
      "Churn Probability: 0.14\n",
      "Prediction: ✅ Customer Will Stay\n"
     ]
    },
    {
     "name": "stderr",
     "output_type": "stream",
     "text": [
      "d:\\AIML And DSA\\AI Projects\\Deep Learning\\.venv\\lib\\site-packages\\sklearn\\utils\\validation.py:2749: UserWarning: X does not have valid feature names, but StandardScaler was fitted with feature names\n",
      "  warnings.warn(\n"
     ]
    }
   ],
   "source": [
    "import numpy as np\n",
    "import joblib\n",
    "from tensorflow.keras.models import load_model\n",
    "\n",
    "# Load saved model and scaler\n",
    "model = load_model(\"churn_model.h5\")\n",
    "scaler = joblib.load(\"scaler.pkl\")\n",
    "\n",
    "print(\"🔮 Bank Customer Churn Prediction System 🔮\")\n",
    "print(\"Please provide the following details:\")\n",
    "\n",
    "# Ask user for input values\n",
    "credit_score = int(input(\"1. Credit Score (e.g. 600): \"))\n",
    "geography = input(\"2. Geography (France, Germany, Spain): \").strip().capitalize()\n",
    "gender = input(\"3. Gender (Male/Female): \").strip().capitalize()\n",
    "age = int(input(\"4. Age: \"))\n",
    "tenure = int(input(\"5. Tenure (Years with bank): \"))\n",
    "balance = float(input(\"6. Account Balance: \"))\n",
    "num_of_products = int(input(\"7. Number of Products (e.g. 1 or 2): \"))\n",
    "has_credit_card = int(input(\"8. Has Credit Card? (1 = Yes, 0 = No): \"))\n",
    "is_active_member = int(input(\"9. Is Active Member? (1 = Yes, 0 = No): \"))\n",
    "estimated_salary = float(input(\"10. Estimated Salary: \"))\n",
    "\n",
    "# Geography Encoding (France is baseline)\n",
    "geography_germany = 1 if geography == \"Germany\" else 0\n",
    "geography_spain = 1 if geography == \"Spain\" else 0\n",
    "\n",
    "# Gender Encoding (Male = 1, Female = 0)\n",
    "gender_male = 1 if gender == \"Male\" else 0\n",
    "\n",
    "# Create input vector\n",
    "input_data = np.array([[credit_score, age, tenure, balance, num_of_products,\n",
    "                        has_credit_card, is_active_member, estimated_salary,\n",
    "                        geography_germany, geography_spain, gender_male]])\n",
    "\n",
    "# Scale input\n",
    "input_scaled = scaler.transform(input_data)\n",
    "\n",
    "# Predict\n",
    "churn_prob = model.predict(input_scaled)[0][0]\n",
    "churn = churn_prob > 0.5\n",
    "\n",
    "# Output result\n",
    "print(\"\\n🧾 Prediction Results:\")\n",
    "print(f\"Churn Probability: {churn_prob:.2f}\")\n",
    "print(\"Prediction: 🚫 Customer Will Churn\" if churn else \"Prediction: ✅ Customer Will Stay\")"
   ]
  },
  {
   "cell_type": "code",
   "execution_count": null,
   "id": "7bfac748",
   "metadata": {},
   "outputs": [],
   "source": []
  },
  {
   "cell_type": "markdown",
   "id": "580083dd",
   "metadata": {},
   "source": [
    "# Notes:"
   ]
  },
  {
   "cell_type": "markdown",
   "id": "8b06a06e",
   "metadata": {},
   "source": [
    "#### Interview Question:\n",
    "\n",
    "#### Q.1 for which all **algotithms feature scaling is required?**"
   ]
  },
  {
   "cell_type": "code",
   "execution_count": null,
   "id": "99cd8d35",
   "metadata": {},
   "outputs": [],
   "source": []
  },
  {
   "cell_type": "markdown",
   "id": "e54b6f10",
   "metadata": {},
   "source": [
    "- Any Algorithm that is distance based that need feature scaling.\n",
    "- whenever gardient diescent or optimizer is required then feature scaling is required"
   ]
  },
  {
   "cell_type": "code",
   "execution_count": null,
   "id": "d90eaccd",
   "metadata": {},
   "outputs": [],
   "source": []
  },
  {
   "cell_type": "markdown",
   "id": "b67a55cc",
   "metadata": {},
   "source": [
    "Feature scaling is **not always required**, but for many machine learning algorithms, it is **crucial for performance** and **faster convergence**. Here's a breakdown:\n",
    "\n",
    "---\n",
    "\n",
    "##### ✅ **Algorithms that Require Feature Scaling**\n",
    "\n",
    "These algorithms are **distance-based** or **gradient-based**, so they are sensitive to the magnitude of features.\n",
    "\n",
    "| Algorithm                              | Reason for Scaling                                                                  |\n",
    "| -------------------------------------- | ----------------------------------------------------------------------------------- |\n",
    "| **K-Nearest Neighbors (KNN)**          | Uses Euclidean distance → features with larger ranges dominate the distance metric. |\n",
    "| **Support Vector Machines (SVM)**      | Uses dot products and distances to find the optimal hyperplane.                     |\n",
    "| **Logistic Regression**                | Gradient descent converges faster with scaled features.                             |\n",
    "| **Linear Regression (with GD)**        | Scaling helps gradient descent perform efficiently.                                 |\n",
    "| **Principal Component Analysis (PCA)** | Sensitive to variances of input features.                                           |\n",
    "| **K-Means Clustering**                 | Uses Euclidean distance for assigning clusters.                                     |\n",
    "| **Neural Networks / Deep Learning**    | Better convergence and weight initialization when features are scaled.              |\n",
    "\n",
    "---\n",
    "\n",
    "##### ❌ **Algorithms that Do NOT Require Feature Scaling**\n",
    "\n",
    "These algorithms are **tree-based** or use **splits** that are **not distance-based**.\n",
    "\n",
    "| Algorithm                                           | Reason Scaling is Not Required                            |\n",
    "| --------------------------------------------------- | --------------------------------------------------------- |\n",
    "| **Decision Trees**                                  | Based on feature thresholds; scale doesn't matter.        |\n",
    "| **Random Forests**                                  | Ensemble of decision trees → unaffected by feature scale. |\n",
    "| **Gradient Boosting (XGBoost, LightGBM, CatBoost)** | Also tree-based and scale-invariant.                      |\n",
    "| **Naive Bayes**                                     | Uses probabilities and likelihoods → unaffected by scale. |\n",
    "| **Rule-based Models**                               | Scale has no effect on logical rules.                     |\n",
    "\n",
    "---\n",
    "\n",
    "##### 🧠 **Summary Table**\n",
    "\n",
    "| Algorithm              | Scaling Needed? |\n",
    "| ---------------------- | --------------- |\n",
    "| KNN                    | ✅ Yes           |\n",
    "| SVM                    | ✅ Yes           |\n",
    "| Logistic Regression    | ✅ Yes           |\n",
    "| Linear Regression (GD) | ✅ Yes           |\n",
    "| Neural Networks (ANN)  | ✅ Yes           |\n",
    "| PCA / LDA              | ✅ Yes           |\n",
    "| K-Means                | ✅ Yes           |\n",
    "| Decision Trees         | ❌ No            |\n",
    "| Random Forests         | ❌ No            |\n",
    "| XGBoost, LightGBM      | ❌ No            |\n",
    "| Naive Bayes            | ❌ No            |\n",
    "\n",
    "---\n",
    "\n",
    "##### 🔧 Common Scaling Techniques\n",
    "\n",
    "* **StandardScaler** (Z-score): `(x - mean) / std`\n",
    "* **MinMaxScaler**: Scales to `[0, 1]`\n",
    "* **RobustScaler**: Uses median and IQR (for outliers)\n",
    "* **Normalizer**: Scales rows to unit norm (mainly for text or sparse vectors)\n"
   ]
  },
  {
   "cell_type": "code",
   "execution_count": null,
   "id": "c27b9644",
   "metadata": {},
   "outputs": [],
   "source": []
  },
  {
   "cell_type": "code",
   "execution_count": null,
   "id": "acdc4f88",
   "metadata": {},
   "outputs": [],
   "source": []
  },
  {
   "cell_type": "markdown",
   "id": "c855624f",
   "metadata": {},
   "source": [
    "####  Q.2  What about **deep learning** algorithms like ANN,CNN,RNN,LSTM,GRU,BERT,T5,encoder decoder, transformer architecture? this algorithms require Feature Scaling?"
   ]
  },
  {
   "cell_type": "code",
   "execution_count": null,
   "id": "05e1a9a5",
   "metadata": {},
   "outputs": [],
   "source": []
  },
  {
   "cell_type": "markdown",
   "id": "3a470bbd",
   "metadata": {},
   "source": [
    "In **deep learning**, feature scaling is still **important**, but how and **where** it's applied depends on:\n",
    "\n",
    "* The type of **input data** (numerical, image, text),\n",
    "* The **architecture** (ANN, CNN, RNN, Transformer),\n",
    "* Whether you're using **pre-trained models** (like BERT/T5), or training from scratch.\n",
    "\n",
    "---\n",
    "\n",
    "##### ✅ Feature Scaling in Deep Learning Algorithms\n",
    "\n",
    "| Algorithm / Architecture      | Is Feature Scaling Needed? | How and Why?                                                                                              |\n",
    "| ----------------------------- | -------------------------- | --------------------------------------------------------------------------------------------------------- |\n",
    "| **ANN (Dense / MLP)**         | ✅ Yes                      | Input features should be scaled (e.g., `StandardScaler`, `MinMaxScaler`) to help weights converge faster. |\n",
    "| **CNN (Convolutional)**       | ✅ Yes                      | Image pixel values are usually scaled to \\[0, 1] or \\[-1, 1] — crucial for stable training.               |\n",
    "| **RNN / LSTM / GRU**          | ✅ Yes                      | Sequential numerical data (e.g., time series) should be scaled to ensure gradients are stable.            |\n",
    "| **Encoder-Decoder**           | ✅ Yes (if numeric)         | Scaling needed for numerical inputs; for text (tokenized), use embeddings.                                |\n",
    "| **Transformer (Generic)**     | ✅ Yes (if numeric)         | Transformers need scaled inputs unless using embeddings (e.g., in NLP).                                   |\n",
    "| **BERT / T5 / GPT**           | ❌ No (handled internally)  | Pre-trained NLP models use token embeddings (no manual scaling needed).                                   |\n",
    "| **Vision Transformers (ViT)** | ✅ Yes                      | Image inputs are normalized, often using pretrained model-specific mean/std.                              |\n",
    "\n",
    "---\n",
    "\n",
    "##### 🔍 Details by Input Type\n",
    "\n",
    "##### 📊 **Numerical Data (Tabular)**\n",
    "\n",
    "* Scale features using `StandardScaler` or `MinMaxScaler`.\n",
    "* Required for **ANN**, **RNN**, **LSTM**, **GRU**.\n",
    "\n",
    "##### 🖼️ **Image Data**\n",
    "\n",
    "* Use:\n",
    "\n",
    "  * `x/255.0` for pixel scaling to `[0,1]`\n",
    "  * Or mean/std normalization (e.g., ImageNet norms: `mean=[0.485, 0.456, 0.406]`)\n",
    "* Applies to **CNN**, **ViT**, **Autoencoders for image**.\n",
    "\n",
    "##### 📝 **Text Data**\n",
    "\n",
    "* No manual feature scaling.\n",
    "* Use tokenizers + embeddings (BERT, T5, GPT, etc.).\n",
    "* Scaling is handled via **embedding layers** or **pretrained token embeddings**.\n",
    "\n",
    "---\n",
    "\n",
    "##### 🔧 Examples\n",
    "\n",
    "##### ANN for Tabular Data\n",
    "\n",
    "```python\n",
    "from sklearn.preprocessing import StandardScaler\n",
    "\n",
    "scaler = StandardScaler()\n",
    "X_scaled = scaler.fit_transform(X)\n",
    "\n",
    "# Feed X_scaled into your ANN\n",
    "```\n",
    "\n",
    "---\n",
    "\n",
    "##### CNN for Image Data\n",
    "\n",
    "```python\n",
    "# Normalize pixels\n",
    "X = X / 255.0\n",
    "```\n",
    "\n",
    "Or using PyTorch transforms:\n",
    "\n",
    "```python\n",
    "transforms.Normalize(mean=[0.485, 0.456, 0.406],\n",
    "                     std=[0.229, 0.224, 0.225])\n",
    "```\n",
    "\n",
    "---\n",
    "\n",
    "##### RNN/LSTM for Time Series\n",
    "\n",
    "```python\n",
    "from sklearn.preprocessing import MinMaxScaler\n",
    "\n",
    "scaler = MinMaxScaler()\n",
    "scaled_series = scaler.fit_transform(time_series)\n",
    "```\n",
    "\n",
    "---\n",
    "\n",
    "##### Transformers with Pretrained Models (e.g., BERT)\n",
    "\n",
    "```python\n",
    "from transformers import BertTokenizer\n",
    "\n",
    "tokenizer = BertTokenizer.from_pretrained('bert-base-uncased')\n",
    "tokens = tokenizer(\"example sentence\", return_tensors=\"pt\")\n",
    "# No manual scaling — embeddings take care of it\n",
    "```\n",
    "\n",
    "---\n",
    "\n",
    "##### ✅ Summary\n",
    "\n",
    "| Algorithm / Use Case                 | Manual Feature Scaling Needed?    |\n",
    "| ------------------------------------ | --------------------------------- |\n",
    "| ANN (tabular)                        | ✅ Yes                             |\n",
    "| CNN (image)                          | ✅ Yes                             |\n",
    "| RNN / LSTM / GRU (sequence)          | ✅ Yes                             |\n",
    "| Transformer (numeric)                | ✅ Yes                             |\n",
    "| BERT / T5 / GPT (text)               | ❌ No (use tokenizer + embeddings) |\n",
    "| Pretrained models (e.g. HuggingFace) | ❌ No                              |\n",
    "\n"
   ]
  },
  {
   "cell_type": "code",
   "execution_count": null,
   "id": "ea8e030a",
   "metadata": {},
   "outputs": [],
   "source": []
  },
  {
   "cell_type": "code",
   "execution_count": null,
   "id": "458e13d6",
   "metadata": {},
   "outputs": [],
   "source": []
  },
  {
   "cell_type": "markdown",
   "id": "ffb74afe",
   "metadata": {},
   "source": [
    "#### Q.3 whats the Difference Between **fit_transform** and **transform**?"
   ]
  },
  {
   "cell_type": "markdown",
   "id": "c0693404",
   "metadata": {},
   "source": [
    "##### ✅ `fit_transform()`\n",
    "\n",
    "##### 🔹 Definition:\n",
    "\n",
    "> `fit_transform()` is used to **learn from the training data** (e.g., calculate mean & std or min & max) **and then apply** the transformation to the same data.\n",
    "\n",
    "##### 💡 Example:\n",
    "\n",
    "```python\n",
    "scaler = StandardScaler()\n",
    "X_train_scaled = scaler.fit_transform(X_train)\n",
    "```\n",
    "\n",
    "* Learns mean and standard deviation from `X_train`\n",
    "* Transforms `X_train` to have mean = 0 and std = 1\n",
    "\n",
    "---\n",
    "\n",
    "##### ✅ `transform()`\n",
    "\n",
    "##### 🔹 Definition:\n",
    "\n",
    "> `transform()` is used to **apply the same transformation** (using already learned values from training data) to **new or test data**.\n",
    "\n",
    "##### 💡 Example:\n",
    "\n",
    "```python\n",
    "X_test_scaled = scaler.transform(X_test)\n",
    "```\n",
    "\n",
    "* Does **not** learn again\n",
    "* Just uses the training data's mean/std to scale `X_test`\n",
    "\n",
    "---\n",
    "\n",
    "##### 🎤 Interview-Friendly Summary:\n",
    "\n",
    "> \"`fit_transform()` is used on training data to **learn** and **scale** it.\n",
    "> `transform()` is used on test data to **apply the same scaling**, ensuring no data leakage.\"\n",
    "\n"
   ]
  },
  {
   "cell_type": "code",
   "execution_count": null,
   "id": "ae2008fd",
   "metadata": {},
   "outputs": [],
   "source": []
  },
  {
   "cell_type": "code",
   "execution_count": null,
   "id": "ec09df47",
   "metadata": {},
   "outputs": [],
   "source": []
  },
  {
   "cell_type": "markdown",
   "id": "6aa9f57b",
   "metadata": {},
   "source": [
    "##### 🎯 You want to understand:\n",
    "\n",
    "* What does `fit_transform()` do?\n",
    "* What does `transform()` do?\n",
    "* What’s the difference between `StandardScaler` and `MinMaxScaler`?\n",
    "\n",
    "Let’s break it down like a story.\n",
    "\n",
    "---\n",
    "\n",
    "##### 🧠 Think of it like this:\n",
    "\n",
    "You're the **chef**, and your data is a **basket of fruits (numbers)**.\n",
    "Before serving, you want to **make all fruits the same size** so the machine can \"eat\" them easily (this is called *scaling*).\n",
    "\n",
    "---\n",
    "\n",
    "##### ✅ You have 4 training samples (fruits):\n",
    "\n",
    "```python\n",
    "X_train = [[1], [2], [3], [4]]\n",
    "```\n",
    "\n",
    "That’s like 4 students who studied for 1, 2, 3, and 4 hours.\n",
    "\n",
    "---\n",
    "\n",
    "##### ✅ You also have 2 test samples:\n",
    "\n",
    "```python\n",
    "X_test = [[5], [1.5]]\n",
    "```\n",
    "\n",
    "They studied for 5 and 1.5 hours.\n",
    "\n",
    "---\n",
    "\n",
    "---\n",
    "\n",
    "##### 🔢 Example 1: Using **StandardScaler**\n",
    "\n",
    "##### 🎯 Goal: Make data have **mean = 0** and **standard deviation = 1**\n",
    "\n",
    "##### ▶️ Step 1: Use `fit_transform()` on training data\n",
    "\n",
    "```python\n",
    "from sklearn.preprocessing import StandardScaler\n",
    "scaler = StandardScaler()\n",
    "X_train_scaled = scaler.fit_transform([[1], [2], [3], [4]])\n",
    "```\n",
    "\n",
    "📦 What happens?\n",
    "\n",
    "1. It **calculates mean = 2.5**, std = 1.12\n",
    "2. It transforms data like this:\n",
    "\n",
    "$$\n",
    "z = \\frac{x - \\text{mean}}{\\text{std}} = \\frac{x - 2.5}{1.12}\n",
    "$$\n",
    "\n",
    "| Original | Scaled (z)             |\n",
    "| -------- | ---------------------- |\n",
    "| 1        | (1 - 2.5)/1.12 ≈ -1.33 |\n",
    "| 2        | (2 - 2.5)/1.12 ≈ -0.44 |\n",
    "| 3        | (3 - 2.5)/1.12 ≈ 0.44  |\n",
    "| 4        | (4 - 2.5)/1.12 ≈ 1.33  |\n",
    "\n",
    "---\n",
    "\n",
    "##### ▶️ Step 2: Now use `transform()` on test data\n",
    "\n",
    "```python\n",
    "X_test_scaled = scaler.transform([[5], [1.5]])\n",
    "```\n",
    "\n",
    "Now it uses **same mean (2.5)** and **std (1.12)** from training, and transforms:\n",
    "\n",
    "| Original | Scaled                   |\n",
    "| -------- | ------------------------ |\n",
    "| 5        | (5 - 2.5)/1.12 ≈ 2.22    |\n",
    "| 1.5      | (1.5 - 2.5)/1.12 ≈ -0.89 |\n",
    "\n",
    "✅ You didn’t fit again — just transformed using training data's \"rulebook\".\n",
    "\n",
    "---\n",
    "\n",
    "##### 🔢 Example 2: Using **MinMaxScaler**\n",
    "\n",
    "##### 🎯 Goal: Scale all values between **0 and 1**\n",
    "\n",
    "##### ▶️ Step 1: Use `fit_transform()` on training data\n",
    "\n",
    "```python\n",
    "from sklearn.preprocessing import MinMaxScaler\n",
    "scaler = MinMaxScaler()\n",
    "X_train_scaled = scaler.fit_transform([[1], [2], [3], [4]])\n",
    "```\n",
    "\n",
    "1. It finds **min = 1** and **max = 4**\n",
    "2. Then transforms like this:\n",
    "\n",
    "$$\n",
    "z = \\frac{x - \\text{min}}{\\text{max - min}} = \\frac{x - 1}{3}\n",
    "$$\n",
    "\n",
    "| Original | Scaled |\n",
    "| -------- | ------ |\n",
    "| 1        | 0.0    |\n",
    "| 2        | 0.33   |\n",
    "| 3        | 0.66   |\n",
    "| 4        | 1.0    |\n",
    "\n",
    "---\n",
    "\n",
    "##### ▶️ Step 2: `transform()` on test data:\n",
    "\n",
    "```python\n",
    "X_test_scaled = scaler.transform([[5], [1.5]])\n",
    "```\n",
    "\n",
    "Using the **same min and max (1 and 4)**:\n",
    "\n",
    "| Original | Scaled             |\n",
    "| -------- | ------------------ |\n",
    "| 5        | (5 - 1)/3 = 1.33   |\n",
    "| 1.5      | (1.5 - 1)/3 = 0.17 |\n",
    "\n",
    "✅ Again: No new fitting. Only transformation.\n",
    "\n",
    "---\n",
    "\n",
    "#### 🧠 Summary in Simple Words\n",
    "\n",
    "| Step                  | `fit_transform()`                                       | `transform()`                            |\n",
    "| --------------------- | ------------------------------------------------------- | ---------------------------------------- |\n",
    "| What it does          | Learns (mean/std or min/max) **+** scales training data | Uses learned info to scale new/test data |\n",
    "| Use it on             | **Training data only**                                  | **Test/Validation data only**            |\n",
    "| StandardScaler result | Mean = 0, Std = 1                                       | Same scale applied                       |\n",
    "| MinMaxScaler result   | Data between 0 and 1                                    | Same scale applied                       |\n",
    "\n"
   ]
  },
  {
   "cell_type": "code",
   "execution_count": null,
   "id": "ceda5dfd",
   "metadata": {},
   "outputs": [],
   "source": []
  },
  {
   "cell_type": "code",
   "execution_count": null,
   "id": "7b6b4e58",
   "metadata": {},
   "outputs": [],
   "source": []
  },
  {
   "cell_type": "markdown",
   "id": "14bd4d7f",
   "metadata": {},
   "source": [
    "### Q.4 Does using the same transformation leak test data? if not then how?"
   ]
  },
  {
   "cell_type": "markdown",
   "id": "1c039913",
   "metadata": {},
   "source": [
    "👉 **No — using the same transformation (i.e., `transform()` on test data)** **does *not* leak test data.**\n",
    "\n",
    "---\n",
    "\n",
    "##### ✅ Here's Why:\n",
    "\n",
    "##### 🔹 When you use:\n",
    "\n",
    "```python\n",
    "scaler.fit_transform(X_train)\n",
    "```\n",
    "\n",
    "You're telling the scaler:\n",
    "\n",
    "> \"Learn from **training data only**.\"\n",
    "\n",
    "It calculates:\n",
    "\n",
    "* `mean`, `std` (for `StandardScaler`)\n",
    "* or `min`, `max` (for `MinMaxScaler`)\n",
    "\n",
    "---\n",
    "\n",
    "##### 🔹 Then you use:\n",
    "\n",
    "```python\n",
    "scaler.transform(X_test)\n",
    "```\n",
    "\n",
    "This says:\n",
    "\n",
    "> \"Now use the same rules (mean/std or min/max) you learned from training data, and apply them to test data.\"\n",
    "\n",
    "✔️ The scaler **does NOT look at or learn from the test data** — it just applies the formula.\n",
    "\n",
    "---\n",
    "\n",
    "##### 🧠 Why This Avoids Data Leakage\n",
    "\n",
    "* You only use **information from training data** to preprocess everything.\n",
    "* Your model **never sees test data during training**, directly or indirectly.\n",
    "* This simulates **real-world prediction**, where you won't know the target or distribution of new incoming data.\n",
    "\n",
    "---\n",
    "\n",
    "##### ❌ What *Would* Be Data Leakage?\n",
    "\n",
    "If you did:\n",
    "\n",
    "```python\n",
    "scaler.fit_transform(X_test)\n",
    "```\n",
    "\n",
    "or worse:\n",
    "\n",
    "```python\n",
    "scaler.fit(np.concatenate((X_train, X_test)))\n",
    "```\n",
    "\n",
    "➡️ Now the scaler is learning from test data too!\n",
    "🚨 This introduces data leakage, because test information has influenced the model indirectly.\n",
    "\n",
    "---\n",
    "\n",
    "##### ✅ Summary Answer (Interview-Ready)\n",
    "\n",
    "> \"No, using `transform()` on test data does not cause data leakage because the scaler is only applying the transformation learned from training data. It doesn't calculate any statistics from the test data, which keeps the test set unseen and the evaluation fair.\"\n",
    "\n"
   ]
  },
  {
   "cell_type": "markdown",
   "id": "692fafc0",
   "metadata": {},
   "source": []
  }
 ],
 "metadata": {
  "kernelspec": {
   "display_name": ".venv",
   "language": "python",
   "name": "python3"
  },
  "language_info": {
   "codemirror_mode": {
    "name": "ipython",
    "version": 3
   },
   "file_extension": ".py",
   "mimetype": "text/x-python",
   "name": "python",
   "nbconvert_exporter": "python",
   "pygments_lexer": "ipython3",
   "version": "3.10.0"
  }
 },
 "nbformat": 4,
 "nbformat_minor": 5
}
